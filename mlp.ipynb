{
 "cells": [
  {
   "cell_type": "code",
   "execution_count": 50,
   "id": "8a48ec4c-99f0-4b19-850e-ec4a89b07354",
   "metadata": {},
   "outputs": [],
   "source": [
    "import torch\n",
    "import torch.nn.functional as F \n",
    "import matplotlib.pyplot as plt\n",
    "%matplotlib inline"
   ]
  },
  {
   "cell_type": "code",
   "execution_count": 51,
   "id": "e949090f-9b2f-4799-a820-9b6a8d9eace0",
   "metadata": {},
   "outputs": [
    {
     "data": {
      "text/plain": [
       "['emma', 'olivia', 'ava', 'isabella', 'sophia', 'charlotte', 'mia', 'amelia']"
      ]
     },
     "execution_count": 51,
     "metadata": {},
     "output_type": "execute_result"
    }
   ],
   "source": [
    "# Read all the words\n",
    "words = open('names.txt', 'r').read().splitlines()\n",
    "words[:8]"
   ]
  },
  {
   "cell_type": "code",
   "execution_count": 52,
   "id": "52136eef-93de-454b-99b3-57a6bffddccd",
   "metadata": {},
   "outputs": [
    {
     "data": {
      "text/plain": [
       "32033"
      ]
     },
     "execution_count": 52,
     "metadata": {},
     "output_type": "execute_result"
    }
   ],
   "source": [
    "len(words)"
   ]
  },
  {
   "cell_type": "code",
   "execution_count": 53,
   "id": "21ce62a8-a8f9-4d2b-bd62-c1aa46b95bad",
   "metadata": {},
   "outputs": [
    {
     "name": "stdout",
     "output_type": "stream",
     "text": [
      "{1: 'a', 2: 'b', 3: 'c', 4: 'd', 5: 'e', 6: 'f', 7: 'g', 8: 'h', 9: 'i', 10: 'j', 11: 'k', 12: 'l', 13: 'm', 14: 'n', 15: 'o', 16: 'p', 17: 'q', 18: 'r', 19: 's', 20: 't', 21: 'u', 22: 'v', 23: 'w', 24: 'x', 25: 'y', 26: 'z', 0: '.'}\n"
     ]
    }
   ],
   "source": [
    "# Build the vocabulary of characters and mappings to/from integers\n",
    "chars = sorted(list(set(''.join(words))))\n",
    "stoi = {s:i + 1 for i, s in enumerate(chars)}\n",
    "stoi['.'] = 0\n",
    "itos = {i:s for s, i in stoi.items()}\n",
    "print(itos)"
   ]
  },
  {
   "cell_type": "code",
   "execution_count": 54,
   "id": "80dda12c-5640-433d-943b-4edb76fcf6f7",
   "metadata": {},
   "outputs": [],
   "source": [
    "# Build the dataset \n",
    "def build_dataset(words):\n",
    "    block_size = 3 # How many characters to take to predict the next one\n",
    "    X, Y = [], []\n",
    "    \n",
    "    for w in words:\n",
    "    \n",
    "        # print(w)\n",
    "        context = [0] * block_size\n",
    "        for ch in w + '.':\n",
    "            ix = stoi[ch]\n",
    "            X.append(context)\n",
    "            Y.append(ix)\n",
    "            # print(''.join(itos[i] for i in context), '---->', itos[ix])\n",
    "            context = context[1:] + [ix] # Crop and append\n",
    "    X = torch.tensor(X)\n",
    "    Y = torch.tensor(Y)\n",
    "\n",
    "    return X, Y\n",
    "    \n",
    "import random \n",
    "random.seed(42)\n",
    "random.shuffle(words)\n",
    "n1 = int(0.8*len(words))\n",
    "n2 = int(0.9*len(words))\n",
    "\n",
    "Xtr, Ytr = build_dataset(words[:n1])\n",
    "Xdev, Ydev = build_dataset(words[n1:n2])\n",
    "Xte, Yte = build_dataset(words[n2:])"
   ]
  },
  {
   "cell_type": "code",
   "execution_count": 55,
   "id": "26d9231c-605b-4fa7-ba08-ac439ce1a88b",
   "metadata": {},
   "outputs": [],
   "source": [
    "# --- Implmenting layers ---"
   ]
  },
  {
   "cell_type": "code",
   "execution_count": 56,
   "id": "dab26166-10c8-4eab-88bb-e4d555f25f7b",
   "metadata": {},
   "outputs": [
    {
     "data": {
      "text/plain": [
       "(torch.Size([182625, 3]), torch.Size([182625]))"
      ]
     },
     "execution_count": 56,
     "metadata": {},
     "output_type": "execute_result"
    }
   ],
   "source": [
    "Xtr.shape, Ytr.shape # Dataset"
   ]
  },
  {
   "cell_type": "code",
   "execution_count": 71,
   "id": "61d80da3-49f9-421a-b5dd-433192ac91b0",
   "metadata": {},
   "outputs": [],
   "source": [
    "# Neural net initilization\n",
    "\n",
    "g = torch.Generator().manual_seed(2147483647)\n",
    "C = torch.randn((27,10), generator=g)\n",
    "W1 = torch.randn((30, 200))\n",
    "b1 = torch.randn(200)\n",
    "W2 = torch.randn((200, 27))\n",
    "b2 = torch.randn(27)\n",
    "parameters = [C, W1, b1, W2, b2]"
   ]
  },
  {
   "cell_type": "code",
   "execution_count": 72,
   "id": "0c644be0-a838-4d5e-b817-a5088e872fbb",
   "metadata": {},
   "outputs": [
    {
     "data": {
      "text/plain": [
       "11897"
      ]
     },
     "execution_count": 72,
     "metadata": {},
     "output_type": "execute_result"
    }
   ],
   "source": [
    "sum(p.nelement() for p in parameters) # Number of parameters in total"
   ]
  },
  {
   "cell_type": "code",
   "execution_count": 73,
   "id": "c164f8cc-e7ab-4510-aa6a-f26ea2e63194",
   "metadata": {},
   "outputs": [],
   "source": [
    "for p in parameters:\n",
    "    p.requires_grad = True"
   ]
  },
  {
   "cell_type": "code",
   "execution_count": 74,
   "id": "dd7ddd13-3de5-47dc-94cd-8433548235dc",
   "metadata": {},
   "outputs": [],
   "source": [
    "lre = torch.linspace(-3, 0, 1000)\n",
    "lrs = 10**lre"
   ]
  },
  {
   "cell_type": "code",
   "execution_count": 75,
   "id": "74498d4e-2f15-46ad-95c6-8114c24203d9",
   "metadata": {},
   "outputs": [],
   "source": [
    "lri = []\n",
    "lossi = []\n",
    "stepi = []"
   ]
  },
  {
   "cell_type": "code",
   "execution_count": 76,
   "id": "976e85c1-10fb-47e8-b323-b3683ce676f2",
   "metadata": {},
   "outputs": [],
   "source": [
    "for i in range(200000):\n",
    "\n",
    "    # Mini-batch construct\n",
    "\n",
    "    ix = torch.randint(0, Xtr.shape[0], (32,))\n",
    "    \n",
    "    # Forward pass    \n",
    "    \n",
    "    # Hidden layer\n",
    "    emb = C[Xtr[ix]] # [32, 3, 2]\n",
    "    h = torch.tanh(emb.view(-1, C.shape[1] * 3) @ W1 + b1 ) # (32, 100)\n",
    "    \n",
    "    # Output layer\n",
    "    logits = h @ W2 + b2 # (32, 27)\n",
    "    loss = F.cross_entropy(logits, Ytr[ix])\n",
    "   \n",
    "\n",
    "    # Backward pass\n",
    "    for p in parameters: \n",
    "        p.grad = None # Restart gradient\n",
    "    loss.backward()\n",
    "    \n",
    "\n",
    "    # Update\n",
    "    # lr = lrs[i]\n",
    "    lr = 0.1 if i < 100000 else 0.01\n",
    "    for p in parameters:\n",
    "        p.data += -lr * p.grad\n",
    "\n",
    "    # Track stats\n",
    "    #lri.append(lre[i])\n",
    "    lossi.append(loss.log10().item())\n",
    "    stepi.append(i)\n",
    "\n",
    "#print(loss.item())"
   ]
  },
  {
   "cell_type": "code",
   "execution_count": 77,
   "id": "95b65031-5228-4595-ad6d-54067897bb3e",
   "metadata": {},
   "outputs": [
    {
     "data": {
      "image/png": "[encoded data removed]",
      "text/plain": [
       "<Figure size 640x480 with 1 Axes>"
      ]
     },
     "metadata": {},
     "output_type": "display_data"
    }
   ],
   "source": [
    "plt.plot(stepi, lossi)\n",
    "plt.show()"
   ]
  },
  {
   "cell_type": "code",
   "execution_count": 78,
   "id": "a867a29b-f0a3-43be-a9f9-10b65be92411",
   "metadata": {},
   "outputs": [
    {
     "data": {
      "text/plain": [
       "tensor(2.1245, grad_fn=<NllLossBackward0>)"
      ]
     },
     "execution_count": 78,
     "metadata": {},
     "output_type": "execute_result"
    }
   ],
   "source": [
    "# Validation for all training\n",
    "\n",
    "emb = C[Xtr] # [32, 3, 2]\n",
    "h = torch.tanh(emb.view(-1, C.shape[1] * 3) @ W1 + b1 ) # (32, 100)\n",
    "    \n",
    "logits = h @ W2 + b2 # (32, 27)\n",
    "loss = F.cross_entropy(logits, Ytr)\n",
    "loss"
   ]
  },
  {
   "cell_type": "code",
   "execution_count": 79,
   "id": "0bec93c3-5902-4f41-943a-fa0f53efb3c7",
   "metadata": {},
   "outputs": [
    {
     "data": {
      "text/plain": [
       "tensor(2.1751, grad_fn=<NllLossBackward0>)"
      ]
     },
     "execution_count": 79,
     "metadata": {},
     "output_type": "execute_result"
    }
   ],
   "source": [
    "# Validation for all dev values\n",
    "\n",
    "emb = C[Xdev] # [32, 3, 2]\n",
    "h = torch.tanh(emb.view(-1, C.shape[1] * 3) @ W1 + b1 ) # (32, 100)\n",
    "    \n",
    "logits = h @ W2 + b2 # (32, 27)\n",
    "loss = F.cross_entropy(logits, Ydev)\n",
    "loss"
   ]
  },
  {
   "cell_type": "code",
   "execution_count": 91,
   "id": "e7a74c1b-e177-43cf-ad09-87998dd46a10",
   "metadata": {},
   "outputs": [
    {
     "data": {
      "text/plain": [
       "tensor(2.1697, grad_fn=<NllLossBackward0>)"
      ]
     },
     "execution_count": 91,
     "metadata": {},
     "output_type": "execute_result"
    }
   ],
   "source": [
    "# Validation for all test values\n",
    "\n",
    "emb = C[Xte] # [32, 3, 2]\n",
    "h = torch.tanh(emb.view(-1, C.shape[1] * 3) @ W1 + b1 ) # (32, 100)\n",
    "    \n",
    "logits = h @ W2 + b2 # (32, 27)\n",
    "loss = F.cross_entropy(logits, Yte)\n",
    "loss"
   ]
  },
  {
   "cell_type": "code",
   "execution_count": 81,
   "id": "9b26d07a-ca70-43b6-9c77-14ae4065d9db",
   "metadata": {},
   "outputs": [
    {
     "data": {
      "image/png": "[encoded data removed]",
      "text/plain": [
       "<Figure size 800x800 with 1 Axes>"
      ]
     },
     "metadata": {},
     "output_type": "display_data"
    }
   ],
   "source": [
    "# Visualizing character embedding \n",
    "plt.figure(figsize=(8,8))\n",
    "plt.scatter(C[:, 0].data, C[:, 1].data, s=200)\n",
    "for i in range(C.shape[0]):\n",
    "    plt.text(C[i,0].item(), C[i,1].item(), itos[i], ha=\"center\", va=\"center\", color=\"white\")\n",
    "plt.grid('minor')\n",
    "plt.show()"
   ]
  },
  {
   "cell_type": "code",
   "execution_count": 92,
   "id": "55e0e634-2c2a-44a4-adf1-a90c5b452d72",
   "metadata": {},
   "outputs": [
    {
     "name": "stdout",
     "output_type": "stream",
     "text": [
      "lizan.\n",
      "emberne.\n",
      "ocilandi.\n",
      "jasmirion.\n",
      "kha.\n",
      "chaler.\n",
      "syah.\n",
      "maksie.\n",
      "rul.\n",
      "perelin.\n"
     ]
    }
   ],
   "source": [
    "# Sample from the model\n",
    "block_size = 3\n",
    "\n",
    "for _ in range(10):\n",
    "\n",
    "    out = []\n",
    "    context = [0] * block_size\n",
    "    while True:\n",
    "        emb = C[torch.tensor([context])] # (1, block_size, d)\n",
    "        h = torch.tanh(emb.view(1, -1) @ W1 + b1)\n",
    "        logits = h @ W2 + b2\n",
    "        probs = F.softmax(logits,dim=1)\n",
    "        ix = torch.multinomial(probs, num_samples = 1, generator=g).item()\n",
    "        context = context[1:] + [ix]\n",
    "        out.append(ix)\n",
    "        if ix == 0:\n",
    "            break\n",
    "            \n",
    "    print(''.join(itos[i] for i in out))"
   ]
  },
  {
   "cell_type": "code",
   "execution_count": null,
   "id": "c2dca9e8-0d98-408d-904d-7f066cfc7c94",
   "metadata": {},
   "outputs": [],
   "source": []
  }
 ],
 "metadata": {
  "kernelspec": {
   "display_name": "Python 3 (ipykernel)",
   "language": "python",
   "name": "python3"
  },
  "language_info": {
   "codemirror_mode": {
    "name": "ipython",
    "version": 3
   },
   "file_extension": ".py",
   "mimetype": "text/x-python",
   "name": "python",
   "nbconvert_exporter": "python",
   "pygments_lexer": "ipython3",
   "version": "3.12.7"
  }
 },
 "nbformat": 4,
 "nbformat_minor": 5
}
